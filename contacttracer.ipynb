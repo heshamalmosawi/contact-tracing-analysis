{
 "cells": [
  {
   "cell_type": "code",
   "execution_count": null,
   "id": "fa538c75",
   "metadata": {},
   "outputs": [],
   "source": [
    "import re, json\n",
    "from datetime import datetime\n",
    "import matplotlib.pyplot as plt\n",
    "from collections import Counter"
   ]
  },
  {
   "cell_type": "markdown",
   "id": "8eb496ce",
   "metadata": {},
   "source": [
    "Author: Sayed Hesham Ahmed\n",
    "\n",
    "This is a program that extracts data about covid patients from the MOH website, analyze them, encode in a JSON file then display some of it on a pie chart."
   ]
  },
  {
   "cell_type": "code",
   "execution_count": null,
   "id": "24b9f601",
   "metadata": {},
   "outputs": [],
   "source": [
    "# opening and reading the HTML file, then saving it in variable 'data'\n",
    "siteText = open(\"contacttracing.htm\", \"r\", encoding=\"utf-8\")\n",
    "data = siteText.read()\n",
    "siteText.close()"
   ]
  },
  {
   "cell_type": "code",
   "execution_count": null,
   "id": "ecf28fca",
   "metadata": {},
   "outputs": [],
   "source": [
    "# storing age data from all patients\n",
    "ageMatches = re.findall(r'Age:(?:\\D*)*?\\s*(\\d+)\\s*', data)\n",
    "allAges =[int(age) for age in ageMatches]"
   ]
  },
  {
   "cell_type": "code",
   "execution_count": null,
   "id": "c815f7c3",
   "metadata": {},
   "outputs": [],
   "source": [
    "caseMatches = re.findall(r'Case No\\.*:*\\s*(?:\\D*)*?(\\d+)', data)\n",
    "allCases =[int(case) for case in caseMatches]\n"
   ]
  },
  {
   "cell_type": "code",
   "execution_count": null,
   "id": "916b65d9",
   "metadata": {},
   "outputs": [],
   "source": [
    "# storing nationality data of all patients\n",
    "natMatches = re.findall(r'Nationality:(?:&.*;)*?\\s*(?:</.*>)*?\\s*[A-z]+', data)\n",
    "allNationality = [nation[13:] for nation in natMatches] # storing without the word \"nationality:\"\n",
    "\n",
    "for i in range(len(allNationality)): # removing unneeded data from nationality list\n",
    "        allNationality[i] = re.sub(r'(nbsp;)|(<.*>)', '', allNationality[i], flags=re.IGNORECASE)\n",
    "        allNationality[i] = allNationality[i].replace(':', '').replace('&', '')\n",
    "        allNationality[i] = re.sub(r'(male)|(female)|(sex)', '', allNationality[i], flags=re.IGNORECASE)\n"
   ]
  },
  {
   "cell_type": "markdown",
   "id": "3efb0d1c",
   "metadata": {},
   "source": [
    "The above cell only captures 754 patients, this is because apparently there is one patient with no nationality typed, so the regular expression did not capture it."
   ]
  },
  {
   "cell_type": "code",
   "execution_count": null,
   "id": "b4b37ca7",
   "metadata": {},
   "outputs": [],
   "source": [
    "genderMatches = re.findall(r'Sex:\\s*(?:&.*;)*?\\s*[\\w]*', data)\n",
    "genderMatches = [gender[4:] for gender in genderMatches]\n",
    "\n",
    "for i in range(len(genderMatches)): # removing unneeded data from gender list and checking if any is empty (unstated/undefined)\n",
    "    genderMatches[i] = re.sub(r'\\s+', '', genderMatches[i], flags=re.IGNORECASE)\n",
    "    if (genderMatches[i] == \"\"):\n",
    "        genderMatches[i] = \"Undefined\"\n",
    "        "
   ]
  },
  {
   "cell_type": "code",
   "execution_count": null,
   "id": "f634d698",
   "metadata": {},
   "outputs": [],
   "source": [
    "travelMatches = re.findall(r'Travel\\sHistory:*\\s*.*', data)\n",
    "travelMatches = [i[14:] for i in travelMatches]\n",
    "\n",
    "for i in range(len(travelMatches)):  # removing unneeded things and checking if empty (NA/no nationality listed)\n",
    "    travelMatches[i] = re.sub(r':\\s{0,1}','', travelMatches[i])\n",
    "    travelMatches[i] = re.sub(r'<.*>','', travelMatches[i])\n",
    "    travelMatches[i] = re.sub(r'&.{4};','', travelMatches[i])\n",
    "    travelMatches[i] = re.sub(r'Arrived\\sfrom','', travelMatches[i], flags=re.IGNORECASE)\n",
    "    travelMatches[i] = re.sub(r'on.*','', travelMatches[i], flags=re.IGNORECASE)\n",
    "    \n",
    "    travelMatches[i] = re.sub(r'\\s*Contact\\s*Tracing', '', travelMatches[i], flags=re.IGNORECASE)\n",
    "    if (travelMatches[i] == \"\"):\n",
    "        travelMatches[i] = \"NA\"\n"
   ]
  },
  {
   "cell_type": "code",
   "execution_count": null,
   "id": "f57cf7e4",
   "metadata": {},
   "outputs": [],
   "source": [
    "tracingMatches = re.findall(r'Contact\\sTracing:.*?</td>', data, re.DOTALL)\n",
    "tracingMatches = [i[16:] for i in tracingMatches]\n",
    "\n",
    "for i in range(len(tracingMatches)):\n",
    "    tracingMatches[i] = re.sub(r'^\\s*', \"\", tracingMatches[i])\n",
    "    tracingMatches[i] = re.sub(r'<.*>', \"\", tracingMatches[i])\n",
    "    tracingMatches[i] = re.sub(r'&.*;', \"\", tracingMatches[i])\n",
    "    tracingMatches[i] = re.sub(r'\\n', \"\", tracingMatches[i])\n",
    "    tracingMatches[i] = re.sub(r'\\s+$', \"\", tracingMatches[i])\n",
    "    tracingMatches[i] = re.sub(r'Case No\\.*:*\\s*(?:\\D*)*?(\\d+)',\"\", tracingMatches[i])\n"
   ]
  },
  {
   "cell_type": "code",
   "execution_count": null,
   "id": "5f2ddbba",
   "metadata": {},
   "outputs": [],
   "source": [
    "# storing date in JSON format file with today's date\n",
    "date = datetime.now().strftime(\"%d-%m-%Y\") \n",
    "fileName = f\"{date}.json\"\n",
    "\n",
    "with open(fileName, \"w\") as json_file:\n",
    "    json.dump([\"Cases:\", allCases], json_file)\n",
    "    json_file.write(\"\\n\")\n",
    "    json.dump([\"Ages:\", allAges], json_file)\n",
    "    json_file.write(\"\\n\")\n",
    "    json.dump([\"Nationalities:\", allNationality], json_file)\n",
    "    json_file.write(\"\\n\")\n",
    "    json.dump([\"Sexes:\", genderMatches], json_file)\n",
    "    json_file.write(\"\\n\")\n",
    "    json.dump([\"Travel History:\", travelMatches], json_file)\n",
    "    json_file.write(\"\\n\")\n",
    "    json.dump([\"Contact Tracing:\", tracingMatches], json_file)\n"
   ]
  },
  {
   "cell_type": "code",
   "execution_count": null,
   "id": "22647a4c",
   "metadata": {
    "scrolled": true
   },
   "outputs": [
    {
     "name": "stdout",
     "output_type": "stream",
     "text": [
      "The countries where most infections came from:\n",
      "1. Not applicable, 373 infections\n",
      "2. Iran, 265 infections\n",
      "3. UK, 53 infections\n",
      "\n",
      "\n",
      "The gender of the infected:\n",
      "Male, 412\n",
      "Female, 225\n",
      "Undefined, 118\n"
     ]
    }
   ],
   "source": [
    "# analyzing needed data\n",
    "temp = travelMatches\n",
    "for i in range(len(temp)):\n",
    "    match = re.search(r'Arrived\\sfrom\\s(\\S+)', temp[i])\n",
    "    if match:\n",
    "        temp[i] = match.group(1)\n",
    "    temp[i] = re.sub(r'^\\s+', \"\", temp[i])\n",
    "    temp[i] = re.sub(r'\\s+$', \"\", temp[i])\n",
    "    temp[i] = re.sub(r'Travel History ', \"\",temp[i])\n",
    "    match2 = re.search((r'NA.*'),temp[i])\n",
    "    if match2:\n",
    "        temp[i]=\"Not applicable\"\n",
    "        \n",
    "\n",
    "topNations = Counter(temp).most_common(3)\n",
    "print(\"The countries where most infections came from:\")\n",
    "for i, (country, count) in enumerate(topNations, 1):\n",
    "    print(f\"{i}. {country}, {count} infections\")\n",
    "\n",
    "print(\"\\n\\nThe gender of the infected:\")\n",
    "genderCounter= Counter(genderMatches)\n",
    "for gender, counter in genderCounter.items():\n",
    "    print(gender + \",\", counter)"
   ]
  },
  {
   "cell_type": "code",
   "execution_count": null,
   "id": "91fa78b0",
   "metadata": {},
   "outputs": [
    {
     "data": {
      "image/png": "[encoded data removed]",
      "text/plain": [
       "<Figure size 300x300 with 1 Axes>"
      ]
     },
     "metadata": {},
     "output_type": "display_data"
    }
   ],
   "source": [
    "# visualizing needed data\n",
    "bahrainiCount = Counter(allNationality).get(\"Bahraini\",0)\n",
    "nonBahrainiCount = len(allNationality) - bahrainiCount\n",
    "\n",
    "plt.figure(figsize=(3,3))\n",
    "plt.pie([bahrainiCount+1, nonBahrainiCount], labels=[\"Bahraini\", \"non-Bahraini\"], autopct='%1.2f%%', startangle=90)\n",
    "plt.title(\"Comparision between Bahraini and non-Bahraini patients.\")\n",
    "plt.axis('equal')\n",
    "plt.show()"
   ]
  }
 ],
 "metadata": {
  "kernelspec": {
   "display_name": "Python 3 (ipykernel)",
   "language": "python",
   "name": "python3"
  },
  "language_info": {
   "codemirror_mode": {
    "name": "ipython",
    "version": 3
   },
   "file_extension": ".py",
   "mimetype": "text/x-python",
   "name": "python",
   "nbconvert_exporter": "python",
   "pygments_lexer": "ipython3",
   "version": "3.11.9"
  }
 },
 "nbformat": 4,
 "nbformat_minor": 5
}
